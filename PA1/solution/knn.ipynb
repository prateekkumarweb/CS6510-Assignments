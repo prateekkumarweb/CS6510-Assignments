{
 "cells": [
  {
   "cell_type": "code",
   "execution_count": 16,
   "metadata": {
    "collapsed": true
   },
   "outputs": [],
   "source": [
    "import numpy as np\n",
    "\n",
    "# Load dataset randomly with 6 features\n",
    "def gen_dataset(length) :\n",
    "    dataset = np.empty((length, 8))\n",
    "    for i in xrange(length) :\n",
    "        while True :\n",
    "            dataset[i][0] = i\n",
    "            dataset[i][1] = np.random.randint(0, 101)\n",
    "            dataset[i][2] = np.random.randint(0, 101)\n",
    "            dataset[i][3] = np.random.randint(0, 101)\n",
    "            dataset[i][4] = np.random.randint(0, 101)\n",
    "            dataset[i][5] = np.random.randint(0, 101)\n",
    "            dataset[i][6] = np.random.randint(0, 101)\n",
    "            dataset[i][7] = np.random.randint(0, 2)\n",
    "            \n",
    "            for j in xrange(i) :\n",
    "                if (dataset[j][1] == dataset[i][1] and\n",
    "                    dataset[j][2] == dataset[i][2] and\n",
    "                    dataset[j][3] == dataset[i][3] and\n",
    "                    dataset[j][4] == dataset[i][4] and\n",
    "                    dataset[j][5] == dataset[i][5] and\n",
    "                    dataset[j][6] == dataset[i][6]) :\n",
    "                        break\n",
    "            else :\n",
    "                break\n",
    "    \n",
    "    # Randomly permutate the dataset\n",
    "    np.random.shuffle(dataset)\n",
    "    # Split dataset into train and test set\n",
    "    split_index = 4*length/5\n",
    "    train, test = dataset[:split_index, :], dataset[split_index:, :]\n",
    "    # Save them to csv files\n",
    "    np.savetxt('train.csv', train, delimiter=',')\n",
    "    np.savetxt('test.csv', test, delimiter=',')"
   ]
  },
  {
   "cell_type": "code",
   "execution_count": 17,
   "metadata": {
    "collapsed": true
   },
   "outputs": [],
   "source": [
    "import numpy as np\n",
    "\n",
    "# Read train and test dataset from train and test files\n",
    "def read_dataset() :\n",
    "    train = np.genfromtxt('train.csv', delimiter=',')\n",
    "    test = np.genfromtxt('test.csv', delimiter=',')\n",
    "    train_x = train[:, 1:7]\n",
    "    train_y = train[:, 7]\n",
    "    test_x = test[:, 1:7]\n",
    "    test_y = test[:, 7]\n",
    "    return train_x, train_y, test_x, test_y"
   ]
  },
  {
   "cell_type": "code",
   "execution_count": 18,
   "metadata": {
    "collapsed": true
   },
   "outputs": [],
   "source": [
    "# KNN from sklean library, train and predict\n",
    "def sklearn_knn(n, train_x, train_y, test_x) :\n",
    "    from sklearn.neighbors import KNeighborsClassifier\n",
    "    neigh = KNeighborsClassifier(n_neighbors=n)\n",
    "    neigh.fit(train_x, train_y)\n",
    "    return neigh.predict(test_x)"
   ]
  },
  {
   "cell_type": "code",
   "execution_count": 19,
   "metadata": {
    "collapsed": true
   },
   "outputs": [],
   "source": [
    "import numpy as np\n",
    "\n",
    "# Implement knn with Euclidean distance\n",
    "def run_knn(n, train_x, train_y, test_x) :\n",
    "    no_test = len(test_x)\n",
    "    test_predict = np.empty(no_test)\n",
    "    # For all points in test set\n",
    "    for i in xrange(no_test) :\n",
    "        distances = np.empty((len(train_x), 2))\n",
    "        # Calcuate distances and outputs from other train points\n",
    "        for j in xrange(len(train_x)) :\n",
    "            distance = 0\n",
    "            for k in xrange(6) :\n",
    "                distance += (test_x[i][k]-train_x[j][k])**2\n",
    "            distances[j][0] = distance\n",
    "            distances[j][1] = train_y[j]\n",
    "        # Sort the outputs according to distances\n",
    "        distances = distances[np.argsort(distances[:, 0])]\n",
    "        votes = [0, 0]\n",
    "        # For nearest k points calculate votes for class 0 and 1\n",
    "        for k in xrange(n) :\n",
    "            if distances[k][1] == 0 :\n",
    "                votes[0] += 1\n",
    "            else :\n",
    "                votes[1] += 1\n",
    "        # If votes for class 0 is higher then predict 0, else if\n",
    "        # for class 1 is higher then predict 1 else predict randomly\n",
    "        if votes[0] > votes[1] :\n",
    "            test_predict[i] = 0\n",
    "        elif votes[0] < votes[1] :\n",
    "            test_predict[i] = 1\n",
    "        else :\n",
    "            test_predict[i] = np.random.randint(0, 2)\n",
    "    # Return predicted output\n",
    "    return test_predict"
   ]
  },
  {
   "cell_type": "code",
   "execution_count": 20,
   "metadata": {
    "collapsed": true
   },
   "outputs": [],
   "source": [
    "# Initalize dataset\n",
    "gen_dataset(1000)\n",
    "train_x, train_y, test_x, test_y = read_dataset()\n",
    "\n",
    "# Calculate accuracy of the predicted data\n",
    "def get_accuracy(test_result_y, test_y):\n",
    "    correct = 0;\n",
    "    for i in xrange(len(test_y)):\n",
    "        if test_y[i] == test_result_y[i]:\n",
    "            correct += 1\n",
    "    return correct, float(correct)/len(test_y)"
   ]
  },
  {
   "cell_type": "code",
   "execution_count": 25,
   "metadata": {},
   "outputs": [
    {
     "name": "stdout",
     "output_type": "stream",
     "text": [
      "| K | My KNN | Sklearn KNN | My KNN Time | Sklearn Time |\n",
      "| --- | --- | --- | --- | --- |\n",
      "| 1 | 0.47 | 0.47 | 1.06377601624 | 0.00253796577454 |\n",
      "| 2 | 0.465 | 0.445 | 1.11978387833 | 0.00261116027832 |\n",
      "| 3 | 0.51 | 0.51 | 1.0166490078 | 0.00270795822144 |\n",
      "| 4 | 0.485 | 0.48 | 1.02640390396 | 0.00284910202026 |\n",
      "| 5 | 0.485 | 0.485 | 1.05628204346 | 0.00295209884644 |\n",
      "| 6 | 0.485 | 0.505 | 1.07843494415 | 0.00317692756653 |\n",
      "| 7 | 0.475 | 0.475 | 1.07187008858 | 0.00445199012756 |\n",
      "| 8 | 0.46 | 0.445 | 1.04060506821 | 0.00319004058838 |\n",
      "| 9 | 0.485 | 0.485 | 1.19458293915 | 0.00343108177185 |\n",
      "| 10 | 0.5 | 0.46 | 1.04880094528 | 0.00426316261292 |\n",
      "| 11 | 0.52 | 0.52 | 1.09572482109 | 0.00343203544617 |\n",
      "| 12 | 0.495 | 0.485 | 1.07432603836 | 0.00353598594666 |\n",
      "| 13 | 0.525 | 0.52 | 1.05930709839 | 0.00361180305481 |\n",
      "| 14 | 0.535 | 0.49 | 1.10788202286 | 0.00373101234436 |\n",
      "| 15 | 0.52 | 0.52 | 1.13192391396 | 0.00362920761108 |\n",
      "| 16 | 0.52 | 0.51 | 1.05603289604 | 0.00387096405029 |\n",
      "| 17 | 0.53 | 0.53 | 1.13083600998 | 0.00407695770264 |\n",
      "| 18 | 0.52 | 0.525 | 1.0790951252 | 0.00394082069397 |\n",
      "| 19 | 0.525 | 0.525 | 1.10567522049 | 0.00395393371582 |\n",
      "| 20 | 0.515 | 0.495 | 1.08136296272 | 0.00401210784912 |\n",
      "| 21 | 0.515 | 0.515 | 1.13130116463 | 0.00410103797913 |\n"
     ]
    }
   ],
   "source": [
    "import time\n",
    "\n",
    "# Run Knn for k = 1 to 21\n",
    "print \"| K | My KNN | Sklearn KNN | My KNN Time | Sklearn Time |\"\n",
    "print \"| --- | --- | --- | --- | --- |\"\n",
    "for k in xrange(21) :\n",
    "    t1 = time.time()\n",
    "    predicted_y_knn = run_knn(k+1, train_x, train_y, test_x)\n",
    "    t2 = time.time()\n",
    "    predicted_y_skl = sklearn_knn(k+1, train_x, train_y, test_x)\n",
    "    t3 = time.time()\n",
    "\n",
    "    _, accuracy_knn = get_accuracy(predicted_y_knn, test_y)\n",
    "    _, accuracy_skl = get_accuracy(predicted_y_skl, test_y)\n",
    "\n",
    "    print \"|\", k+1, \"|\", accuracy_knn, \"|\", accuracy_skl, \"|\", t2-t1, \"|\", t3-t2, \"|\"\n",
    "#     print \"Accuracy for k =\", k+1, \"using own knn is\", accuracy_knn\n",
    "#     print \"Accuracy for k =\", k+1, \"using sklearn knn is\", accuracy_skl"
   ]
  },
  {
   "cell_type": "markdown",
   "metadata": {},
   "source": [
    "## Report\n",
    "\n",
    "* I ran my own implementatation of knn and sklearn knn and compared their accuracy on their outputs.\n",
    "* The Accuracies for k = 1 to 21 are :\n",
    "\n",
    "| K | My KNN | Sklearn KNN | My KNN Time | Sklearn Time |\n",
    "| --- | --- | --- | --- | --- |\n",
    "| 1 | 0.47 | 0.47 | 1.06377601624 | 0.00253796577454 |\n",
    "| 2 | 0.465 | 0.445 | 1.11978387833 | 0.00261116027832 |\n",
    "| 3 | 0.51 | 0.51 | 1.0166490078 | 0.00270795822144 |\n",
    "| 4 | 0.485 | 0.48 | 1.02640390396 | 0.00284910202026 |\n",
    "| 5 | 0.485 | 0.485 | 1.05628204346 | 0.00295209884644 |\n",
    "| 6 | 0.485 | 0.505 | 1.07843494415 | 0.00317692756653 |\n",
    "| 7 | 0.475 | 0.475 | 1.07187008858 | 0.00445199012756 |\n",
    "| 8 | 0.46 | 0.445 | 1.04060506821 | 0.00319004058838 |\n",
    "| 9 | 0.485 | 0.485 | 1.19458293915 | 0.00343108177185 |\n",
    "| 10 | 0.5 | 0.46 | 1.04880094528 | 0.00426316261292 |\n",
    "| 11 | 0.52 | 0.52 | 1.09572482109 | 0.00343203544617 |\n",
    "| 12 | 0.495 | 0.485 | 1.07432603836 | 0.00353598594666 |\n",
    "| 13 | 0.525 | 0.52 | 1.05930709839 | 0.00361180305481 |\n",
    "| 14 | 0.535 | 0.49 | 1.10788202286 | 0.00373101234436 |\n",
    "| 15 | 0.52 | 0.52 | 1.13192391396 | 0.00362920761108 |\n",
    "| 16 | 0.52 | 0.51 | 1.05603289604 | 0.00387096405029 |\n",
    "| 17 | 0.53 | 0.53 | 1.13083600998 | 0.00407695770264 |\n",
    "| 18 | 0.52 | 0.525 | 1.0790951252 | 0.00394082069397 |\n",
    "| 19 | 0.525 | 0.525 | 1.10567522049 | 0.00395393371582 |\n",
    "| 20 | 0.515 | 0.495 | 1.08136296272 | 0.00401210784912 |\n",
    "| 21 | 0.515 | 0.515 | 1.13130116463 | 0.00410103797913 |\n",
    "\n",
    "* For odd k both my implementation and sklean predicted with same accuracy\n",
    "* For even the accuracies are differnet and in case of tie I give random prediction\n",
    "* In case of time, mine took larger time than that of sklearn as it is optimised\n",
    "* There was a increase in time from k = 1 to 21 although not so steadily with many ups and downs"
   ]
  },
  {
   "cell_type": "code",
   "execution_count": null,
   "metadata": {
    "collapsed": true
   },
   "outputs": [],
   "source": []
  }
 ],
 "metadata": {
  "kernelspec": {
   "display_name": "Python 2",
   "language": "python",
   "name": "python2"
  },
  "language_info": {
   "codemirror_mode": {
    "name": "ipython",
    "version": 2
   },
   "file_extension": ".py",
   "mimetype": "text/x-python",
   "name": "python",
   "nbconvert_exporter": "python",
   "pygments_lexer": "ipython2",
   "version": "2.7.13"
  }
 },
 "nbformat": 4,
 "nbformat_minor": 2
}
