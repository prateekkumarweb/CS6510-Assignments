{
 "cells": [
  {
   "cell_type": "code",
   "execution_count": 14,
   "metadata": {
    "collapsed": true
   },
   "outputs": [],
   "source": [
    "# This class manages dataset that will be used to train SVM\n",
    "class SVMDataset :\n",
    "    def __init__(self) :\n",
    "        import numpy\n",
    "        self.np = numpy\n",
    "        \n",
    "    # Load dataset from file, preprocess and normalize\n",
    "    def load_dataset(self, file) :\n",
    "        dataset = self.np.genfromtxt(file, delimiter=',', dtype=\"|S50\", autostrip=True)\n",
    "        train = self.sanitize(dataset)\n",
    "        self.calc_mean_std(train)\n",
    "        self.normalize_train(train)\n",
    "        self.dataset = train\n",
    "        self.np.random.shuffle(self.dataset)\n",
    "    \n",
    "    # Calculate mean and standard variance of each feature\n",
    "    def calc_mean_std(self, train) :\n",
    "        self.mean = self.np.empty(14)\n",
    "        self.std = self.np.empty(14)\n",
    "        for i in xrange(14) :\n",
    "            self.mean[i] = self.np.mean(train[:,i])\n",
    "            self.std[i] = self.np.std(train[:,i])\n",
    "        \n",
    "    # Normalize data using mean and standard deviation of features\n",
    "    def normalize_train(self, train) :\n",
    "        for i in xrange(len(train)) :\n",
    "            for j in xrange(14) :\n",
    "                train[i][j] = (train[i][j] - self.mean[j])/self.std[j]\n",
    "     \n",
    "    # Replace strings with a number\n",
    "    def sanitize(self, dataset) :\n",
    "        self.replacer = []\n",
    "        for i in xrange(len(dataset[0])) :\n",
    "            u, indices = self.np.unique(dataset[:, i], return_inverse=True)\n",
    "            self.replacer.append(u[self.np.argmax(self.np.bincount(indices))])\n",
    "        for i in xrange(len(dataset[0])) :\n",
    "            dataset[:,i][dataset[:,i] == '?'] = self.replacer[i]\n",
    "        data = self.np.zeros((len(dataset), len(dataset[0])), dtype=self.np.float)\n",
    "        data[:,0] = dataset[:,0].astype(self.np.float)\n",
    "        self.col1dict, data[:,1] = self.np.unique(dataset[:, 1], return_inverse=True)\n",
    "        data[:,2] = dataset[:,2].astype(self.np.float)\n",
    "        self.col3dict, data[:,3] = self.np.unique(dataset[:, 3], return_inverse=True)\n",
    "        data[:,4] = dataset[:,4].astype(self.np.float)\n",
    "        self.col5dict, data[:,5] = self.np.unique(dataset[:, 5], return_inverse=True)\n",
    "        self.col6dict, data[:,6] = self.np.unique(dataset[:, 6], return_inverse=True)\n",
    "        self.col7dict, data[:,7] = self.np.unique(dataset[:, 7], return_inverse=True)\n",
    "        self.col8dict, data[:,8] = self.np.unique(dataset[:, 8], return_inverse=True)\n",
    "        self.col9dict, data[:,9] = self.np.unique(dataset[:, 9], return_inverse=True)\n",
    "        data[:,10] = dataset[:,10].astype(self.np.float)\n",
    "        data[:,11] = dataset[:,11].astype(self.np.float)\n",
    "        data[:,12] = dataset[:,12].astype(self.np.float)\n",
    "        self.col13dict, data[:,13] = self.np.unique(dataset[:, 13], return_inverse=True)\n",
    "        data[:,14] = dataset[:,14].astype(self.np.float)\n",
    "        return data\n",
    "    \n",
    "    # Replace strings with numbers in validation and test set\n",
    "    # The number to be used for replacing is decided in above function itself\n",
    "    def sanitize_valid(self, dataset) :\n",
    "        data = self.np.zeros((len(dataset), len(dataset[0])), dtype=self.np.float)\n",
    "        for i in xrange(len(dataset[0])) :\n",
    "            dataset[dataset[:, i] == '?', i] = self.replacer[i]\n",
    "        data[:,0] = dataset[:,0].astype(self.np.float)\n",
    "        for i in xrange(len(self.col1dict)) :\n",
    "            data[:,1][dataset[:,1] == self.col1dict[i]] = i\n",
    "        data[:,2] = dataset[:,2].astype(self.np.float)\n",
    "        for i in xrange(len(self.col3dict)) :\n",
    "            data[:,3][dataset[:,3] == self.col3dict[i]] = i\n",
    "        data[:,4] = dataset[:,4].astype(self.np.float)\n",
    "        for i in xrange(len(self.col5dict)) :\n",
    "            data[:,5][dataset[:,5] == self.col5dict[i]] = i\n",
    "        for i in xrange(len(self.col6dict)) :\n",
    "            data[:,6][dataset[:,6] == self.col6dict[i]] = i\n",
    "        for i in xrange(len(self.col7dict)) :\n",
    "            data[:,7][dataset[:,7] == self.col7dict[i]] = i\n",
    "        for i in xrange(len(self.col8dict)) :\n",
    "            data[:,8][dataset[:,8] == self.col8dict[i]] = i\n",
    "        for i in xrange(len(self.col9dict)) :\n",
    "            data[:,9][dataset[:,9] == self.col9dict[i]] = i\n",
    "        data[:,10] = dataset[:,10].astype(self.np.float)\n",
    "        data[:,11] = dataset[:,11].astype(self.np.float)\n",
    "        data[:,12] = dataset[:,12].astype(self.np.float)\n",
    "        for i in xrange(len(self.col13dict)) :\n",
    "            data[:,13][dataset[:,13] == self.col13dict[i]] = i\n",
    "        return data"
   ]
  },
  {
   "cell_type": "code",
   "execution_count": 15,
   "metadata": {
    "collapsed": true
   },
   "outputs": [],
   "source": [
    "import numpy as np\n",
    "\n",
    "# Linear kernel\n",
    "def linear_kernel(X1, X2) :\n",
    "    return np.dot(X1, X2.T)\n",
    "\n",
    "# Polynomial kenel of degree 2\n",
    "def polynomial_kernel(X1, X2, q) :\n",
    "    return (np.dot(X1, X2.T)+1)**q\n",
    "\n",
    "# Gaussian kernel with s as parameter\n",
    "def gaussian_kernel(X1, X2, s) :\n",
    "    gram_matrix = np.zeros((X1.shape[0], X2.shape[0]))\n",
    "    for i, x1 in enumerate(X1):\n",
    "        for j, x2 in enumerate(X2):\n",
    "            gram_matrix[i, j] = np.exp(- np.linalg.norm(x1.flatten() - x2.flatten())**2 / 2*float(s**2) )\n",
    "    return gram_matrix\n",
    "\n",
    "# Calculate accuracy of the predicted data\n",
    "def get_accuracy(test_result_y, test_y):\n",
    "    correct = 0;\n",
    "    for i in xrange(len(test_y)):\n",
    "        if test_y[i] == test_result_y[i]:\n",
    "            correct += 1\n",
    "    return correct, float(correct)/len(test_y)\n"
   ]
  },
  {
   "cell_type": "code",
   "execution_count": 17,
   "metadata": {
    "collapsed": true
   },
   "outputs": [],
   "source": [
    "import numpy as np\n",
    "from sklearn.svm import SVC\n",
    "from sklearn.utils import shuffle\n",
    "from sklearn.metrics import accuracy_score\n",
    "from sklearn.model_selection import StratifiedKFold\n",
    "\n",
    "# Initialize dataset from file\n",
    "s = SVMDataset()\n",
    "s.load_dataset('data/train.csv')\n",
    "\n",
    "# Seperate X (input) and y (output) from dataset\n",
    "X = s.dataset[:,:-1]\n",
    "y = s.dataset[:,-1]\n",
    "X = X[:3000,:]\n",
    "y = y[:3000]\n",
    "\n",
    "# Do stratified k fold splitting for cross validation\n",
    "skf = StratifiedKFold(n_splits=5)"
   ]
  },
  {
   "cell_type": "code",
   "execution_count": 18,
   "metadata": {},
   "outputs": [],
   "source": [
    "# Initialize SVM with custom kernel\n",
    "svc_linear = SVC(kernel='precomputed')\n",
    "svc_polynomial = SVC(kernel='precomputed')\n",
    "svc_gaussian = SVC(kernel='precomputed')"
   ]
  },
  {
   "cell_type": "code",
   "execution_count": 19,
   "metadata": {},
   "outputs": [
    {
     "name": "stdout",
     "output_type": "stream",
     "text": [
      "Accuracy for linear kernel:  0.826955074875\n",
      "Accuracy for linear kernel:  0.838602329451\n",
      "Accuracy for linear kernel:  0.825\n",
      "Accuracy for linear kernel:  0.818030050083\n",
      "Accuracy for linear kernel:  0.797996661102\n",
      "Average accuracy for Linear Kernel :  0.821316823102\n"
     ]
    }
   ],
   "source": [
    "accuracy_linear_list = []\n",
    "\n",
    "# For each cross validation set run linear kernel SVM\n",
    "for train_index, test_index in skf.split(X, y) :\n",
    "    # Dataset\n",
    "    X_train, X_test = X[train_index], X[test_index]\n",
    "    y_train, y_test = y[train_index], y[test_index]\n",
    "    # Train\n",
    "    kernel_train_linear = linear_kernel(X_train, X_train) \n",
    "    svc_linear.fit(kernel_train_linear, y_train)\n",
    "    # Test\n",
    "    kernel_test_linear = linear_kernel(X_test, X_train)\n",
    "    y_pred_linear = svc_linear.predict(kernel_test_linear)\n",
    "    # Calculate Accuracy\n",
    "    _, accuracy_linear = get_accuracy(y_pred_linear, y_test)\n",
    "    accuracy_linear_list.append(accuracy_linear)\n",
    "    print 'Accuracy for linear kernel: ', accuracy_linear\n",
    "\n",
    "# Calculate Average Accuracy\n",
    "print \"Average accuracy for Linear Kernel : \", np.mean(accuracy_linear_list)"
   ]
  },
  {
   "cell_type": "code",
   "execution_count": 20,
   "metadata": {},
   "outputs": [
    {
     "name": "stdout",
     "output_type": "stream",
     "text": [
      "Accuracy for Polynomial kernel:  0.865224625624\n",
      "Accuracy for Polynomial kernel:  0.835274542429\n",
      "Accuracy for Polynomial kernel:  0.836666666667\n",
      "Accuracy for Polynomial kernel:  0.85141903172\n",
      "Accuracy for Polynomial kernel:  0.828046744574\n",
      "Average accuracy for Polynomial Kernel :  0.843326322203\n"
     ]
    }
   ],
   "source": [
    "accuracy_polynomial_list = []\n",
    "\n",
    "# For each cross validation set run polynomial kernel SVM\n",
    "for train_index, test_index in skf.split(X, y) :\n",
    "    # Dataset\n",
    "    X_train, X_test = X[train_index], X[test_index]\n",
    "    y_train, y_test = y[train_index], y[test_index]\n",
    "    # Train\n",
    "    kernel_train_polynomial = polynomial_kernel(X_train, X_train, 2) \n",
    "    svc_polynomial.fit(kernel_train_polynomial, y_train)\n",
    "    # Test\n",
    "    kernel_test_polynomial = polynomial_kernel(X_test, X_train, 2)\n",
    "    y_pred_polynomial = svc_polynomial.predict(kernel_test_polynomial)\n",
    "    # Calculate Accuracy\n",
    "    _, accuracy_polynomial = get_accuracy(y_pred_polynomial, y_test)\n",
    "    accuracy_polynomial_list.append(accuracy_polynomial)\n",
    "    print 'Accuracy for Polynomial kernel: ', accuracy_polynomial\n",
    "    \n",
    "# Calculate Average Accuracy\n",
    "print \"Average accuracy for Polynomial Kernel : \", np.mean(accuracy_polynomial_list)"
   ]
  },
  {
   "cell_type": "code",
   "execution_count": 23,
   "metadata": {},
   "outputs": [
    {
     "name": "stdout",
     "output_type": "stream",
     "text": [
      "Accuracy for Polynomial kernel:  0.793677204659\n",
      "Accuracy for Polynomial kernel:  0.777038269551\n",
      "Accuracy for Polynomial kernel:  0.771666666667\n",
      "Accuracy for Polynomial kernel:  0.786310517529\n",
      "Accuracy for Polynomial kernel:  0.766277128548\n",
      "Average accuracy for Polynomial Kernel :  0.778993957391\n"
     ]
    }
   ],
   "source": [
    "accuracy_polynomial_list = []\n",
    "\n",
    "# For each cross validation set run polynomial kernel SVM\n",
    "for train_index, test_index in skf.split(X, y) :\n",
    "    # Dataset\n",
    "    X_train, X_test = X[train_index], X[test_index]\n",
    "    y_train, y_test = y[train_index], y[test_index]\n",
    "    # Train\n",
    "    kernel_train_polynomial = polynomial_kernel(X_train, X_train, 3) \n",
    "    svc_polynomial.fit(kernel_train_polynomial, y_train)\n",
    "    # Test\n",
    "    kernel_test_polynomial = polynomial_kernel(X_test, X_train, 3)\n",
    "    y_pred_polynomial = svc_polynomial.predict(kernel_test_polynomial)\n",
    "    # Calculate Accuracy\n",
    "    _, accuracy_polynomial = get_accuracy(y_pred_polynomial, y_test)\n",
    "    accuracy_polynomial_list.append(accuracy_polynomial)\n",
    "    print 'Accuracy for Polynomial kernel: ', accuracy_polynomial\n",
    "    \n",
    "# Calculate Average Accuracy\n",
    "print \"Average accuracy for Polynomial Kernel : \", np.mean(accuracy_polynomial_list)"
   ]
  },
  {
   "cell_type": "code",
   "execution_count": 24,
   "metadata": {},
   "outputs": [
    {
     "name": "stdout",
     "output_type": "stream",
     "text": [
      "Accuracy for Polynomial kernel:  0.780366056572\n",
      "Accuracy for Polynomial kernel:  0.765391014975\n",
      "Accuracy for Polynomial kernel:  0.763333333333\n",
      "Accuracy for Polynomial kernel:  0.74958263773\n",
      "Accuracy for Polynomial kernel:  0.726210350584\n",
      "Average accuracy for Polynomial Kernel :  0.756976678639\n"
     ]
    }
   ],
   "source": [
    "accuracy_polynomial_list = []\n",
    "\n",
    "# For each cross validation set run polynomial kernel SVM\n",
    "for train_index, test_index in skf.split(X, y) :\n",
    "    # Dataset\n",
    "    X_train, X_test = X[train_index], X[test_index]\n",
    "    y_train, y_test = y[train_index], y[test_index]\n",
    "    # Train\n",
    "    kernel_train_polynomial = polynomial_kernel(X_train, X_train, 4) \n",
    "    svc_polynomial.fit(kernel_train_polynomial, y_train)\n",
    "    # Test\n",
    "    kernel_test_polynomial = polynomial_kernel(X_test, X_train, 4)\n",
    "    y_pred_polynomial = svc_polynomial.predict(kernel_test_polynomial)\n",
    "    # Calculate Accuracy\n",
    "    _, accuracy_polynomial = get_accuracy(y_pred_polynomial, y_test)\n",
    "    accuracy_polynomial_list.append(accuracy_polynomial)\n",
    "    print 'Accuracy for Polynomial kernel: ', accuracy_polynomial\n",
    "    \n",
    "# Calculate Average Accuracy\n",
    "print \"Average accuracy for Polynomial Kernel : \", np.mean(accuracy_polynomial_list)"
   ]
  },
  {
   "cell_type": "code",
   "execution_count": 25,
   "metadata": {},
   "outputs": [
    {
     "name": "stdout",
     "output_type": "stream",
     "text": [
      "Accuracy for Gaussian kernel:  0.860232945092\n",
      "Accuracy for Gaussian kernel:  0.833610648918\n",
      "Accuracy for Gaussian kernel:  0.835\n",
      "Accuracy for Gaussian kernel:  0.841402337229\n",
      "Accuracy for Gaussian kernel:  0.819699499165\n",
      "Average accuracy for Gaussian Kernel :  0.837989086081\n"
     ]
    }
   ],
   "source": [
    "accuracy_gaussian_list = []\n",
    "\n",
    "# For each cross validation set gaussian kernel SVM\n",
    "for train_index, test_index in skf.split(X, y) :\n",
    "    # Dataset\n",
    "    X_train, X_test = X[train_index], X[test_index]\n",
    "    y_train, y_test = y[train_index], y[test_index]\n",
    "    # Train\n",
    "    kernel_train_gaussian = gaussian_kernel(X_train, X_train, 0.5)\n",
    "    svc_gaussian.fit(kernel_train_gaussian, y_train)\n",
    "    # Test\n",
    "    kernel_test_gaussian = gaussian_kernel(X_test, X_train, 0.5)\n",
    "    y_pred_gaussian = svc_gaussian.predict(kernel_test_gaussian)\n",
    "    # Calculate Accuracy\n",
    "    _, accuracy_gaussian = get_accuracy(y_pred_gaussian, y_test)\n",
    "    accuracy_gaussian_list.append(accuracy_gaussian)\n",
    "    print 'Accuracy for Gaussian kernel: ', accuracy_gaussian\n",
    "    \n",
    "# Calculate Average Accuracy\n",
    "print \"Average accuracy for Gaussian Kernel : \", np.mean(accuracy_gaussian_list)"
   ]
  },
  {
   "cell_type": "code",
   "execution_count": 26,
   "metadata": {},
   "outputs": [
    {
     "name": "stdout",
     "output_type": "stream",
     "text": [
      "Accuracy for Gaussian kernel:  0.83693843594\n",
      "Accuracy for Gaussian kernel:  0.83693843594\n",
      "Accuracy for Gaussian kernel:  0.831666666667\n",
      "Accuracy for Gaussian kernel:  0.836393989983\n",
      "Accuracy for Gaussian kernel:  0.819699499165\n",
      "Average accuracy for Gaussian Kernel :  0.832327405539\n"
     ]
    }
   ],
   "source": [
    "accuracy_gaussian_list = []\n",
    "\n",
    "# For each cross validation set gaussian kernel SVM\n",
    "for train_index, test_index in skf.split(X, y) :\n",
    "    # Dataset\n",
    "    X_train, X_test = X[train_index], X[test_index]\n",
    "    y_train, y_test = y[train_index], y[test_index]\n",
    "    # Train\n",
    "    kernel_train_gaussian = gaussian_kernel(X_train, X_train, 0.25)\n",
    "    svc_gaussian.fit(kernel_train_gaussian, y_train)\n",
    "    # Test\n",
    "    kernel_test_gaussian = gaussian_kernel(X_test, X_train, 0.25)\n",
    "    y_pred_gaussian = svc_gaussian.predict(kernel_test_gaussian)\n",
    "    # Calculate Accuracy\n",
    "    _, accuracy_gaussian = get_accuracy(y_pred_gaussian, y_test)\n",
    "    accuracy_gaussian_list.append(accuracy_gaussian)\n",
    "    print 'Accuracy for Gaussian kernel: ', accuracy_gaussian\n",
    "    \n",
    "# Calculate Average Accuracy\n",
    "print \"Average accuracy for Gaussian Kernel : \", np.mean(accuracy_gaussian_list)"
   ]
  },
  {
   "cell_type": "code",
   "execution_count": 27,
   "metadata": {},
   "outputs": [
    {
     "name": "stdout",
     "output_type": "stream",
     "text": [
      "Accuracy for Gaussian kernel:  0.848585690516\n",
      "Accuracy for Gaussian kernel:  0.821963394343\n",
      "Accuracy for Gaussian kernel:  0.828333333333\n",
      "Accuracy for Gaussian kernel:  0.821368948247\n",
      "Accuracy for Gaussian kernel:  0.816360601002\n",
      "Average accuracy for Gaussian Kernel :  0.827322393488\n"
     ]
    }
   ],
   "source": [
    "accuracy_gaussian_list = []\n",
    "\n",
    "# For each cross validation set gaussian kernel SVM\n",
    "for train_index, test_index in skf.split(X, y) :\n",
    "    # Dataset\n",
    "    X_train, X_test = X[train_index], X[test_index]\n",
    "    y_train, y_test = y[train_index], y[test_index]\n",
    "    # Train\n",
    "    kernel_train_gaussian = gaussian_kernel(X_train, X_train, 0.75)\n",
    "    svc_gaussian.fit(kernel_train_gaussian, y_train)\n",
    "    # Test\n",
    "    kernel_test_gaussian = gaussian_kernel(X_test, X_train, 0.75)\n",
    "    y_pred_gaussian = svc_gaussian.predict(kernel_test_gaussian)\n",
    "    # Calculate Accuracy\n",
    "    _, accuracy_gaussian = get_accuracy(y_pred_gaussian, y_test)\n",
    "    accuracy_gaussian_list.append(accuracy_gaussian)\n",
    "    print 'Accuracy for Gaussian kernel: ', accuracy_gaussian\n",
    "    \n",
    "# Calculate Average Accuracy\n",
    "print \"Average accuracy for Gaussian Kernel : \", np.mean(accuracy_gaussian_list)"
   ]
  },
  {
   "cell_type": "code",
   "execution_count": 28,
   "metadata": {},
   "outputs": [
    {
     "name": "stdout",
     "output_type": "stream",
     "text": [
      "Accuracy for Gaussian kernel:  0.855241264559\n",
      "Accuracy for Gaussian kernel:  0.83693843594\n",
      "Accuracy for Gaussian kernel:  0.836666666667\n",
      "Accuracy for Gaussian kernel:  0.831385642738\n",
      "Accuracy for Gaussian kernel:  0.813021702838\n",
      "Average accuracy for Gaussian Kernel :  0.834650742548\n"
     ]
    }
   ],
   "source": [
    "accuracy_gaussian_list = []\n",
    "\n",
    "# For each cross validation set gaussian kernel SVM\n",
    "for train_index, test_index in skf.split(X, y) :\n",
    "    # Dataset\n",
    "    X_train, X_test = X[train_index], X[test_index]\n",
    "    y_train, y_test = y[train_index], y[test_index]\n",
    "    # Train\n",
    "    kernel_train_gaussian = gaussian_kernel(X_train, X_train, 0.6)\n",
    "    svc_gaussian.fit(kernel_train_gaussian, y_train)\n",
    "    # Test\n",
    "    kernel_test_gaussian = gaussian_kernel(X_test, X_train, 0.6)\n",
    "    y_pred_gaussian = svc_gaussian.predict(kernel_test_gaussian)\n",
    "    # Calculate Accuracy\n",
    "    _, accuracy_gaussian = get_accuracy(y_pred_gaussian, y_test)\n",
    "    accuracy_gaussian_list.append(accuracy_gaussian)\n",
    "    print 'Accuracy for Gaussian kernel: ', accuracy_gaussian\n",
    "    \n",
    "# Calculate Average Accuracy\n",
    "print \"Average accuracy for Gaussian Kernel : \", np.mean(accuracy_gaussian_list)"
   ]
  },
  {
   "cell_type": "code",
   "execution_count": 29,
   "metadata": {
    "collapsed": true
   },
   "outputs": [],
   "source": [
    "# MultiKernelfixedrules Class\n",
    "class MultiKernelfixedrules(object):\n",
    "    \n",
    "    def __init__(self, kernels, X=None):\n",
    "        self.kernels = kernels\n",
    "        self.X = X\n",
    "        \n",
    "    # Calculoates gram matrix with given alphas\n",
    "    def get_gram_matrix(self, Y, X=None, alphas=[0.33, 0.33, 0.34]):\n",
    "        if X is not None:\n",
    "            self.X = X\n",
    "        \n",
    "        gram_matrix = np.zeros((X.shape[0], Y.shape[0]))\n",
    "        \n",
    "        for i in xrange(len(self.kernels)):\n",
    "            gram_matrix += alphas[i]*self.kernels[i](X, Y)\n",
    "            \n",
    "        return gram_matrix"
   ]
  },
  {
   "cell_type": "code",
   "execution_count": 30,
   "metadata": {},
   "outputs": [],
   "source": [
    "# Define Kernel functions with best parameters found in above case\n",
    "\n",
    "# Polynomial kernel\n",
    "def polynomial_kernel_2(X1, X2) :\n",
    "    return polynomial_kernel(X1, X2, 2)\n",
    "\n",
    "# Gaussain kernel\n",
    "def gaussian_kernel_2(X1, X2) :\n",
    "    return gaussian_kernel(X1, X2, 0.5)\n",
    "\n",
    "# Initailize SVM with custom kernel\n",
    "svc = SVC(kernel='precomputed')\n",
    "# Initailize MKL kernel with the 3 kernels\n",
    "mkl = MultiKernelfixedrules([linear_kernel, polynomial_kernel_2, gaussian_kernel_2])"
   ]
  },
  {
   "cell_type": "code",
   "execution_count": 31,
   "metadata": {},
   "outputs": [
    {
     "name": "stdout",
     "output_type": "stream",
     "text": [
      "Accuracy :  0.865224625624\n",
      "Accuracy :  0.840266222962\n",
      "Accuracy :  0.835\n",
      "Accuracy :  0.854757929883\n",
      "Accuracy :  0.834724540902\n",
      "Average accuracy for Multi Kernel :  0.845994663874\n"
     ]
    }
   ],
   "source": [
    "accuracy = []\n",
    "\n",
    "# For each cross validation train and test set run mkl kernel SVM\n",
    "for train_index, test_index in skf.split(X, y):\n",
    "    # Dataset\n",
    "    X_train, X_test = X[train_index], X[test_index]\n",
    "    y_train, y_test = y[train_index], y[test_index]\n",
    "    # Train\n",
    "    kernel_train = mkl.get_gram_matrix(X_train, X_train)  # linear kernel\n",
    "    svc.fit(kernel_train, y_train)\n",
    "    # Test\n",
    "    kernel_test = mkl.get_gram_matrix(X_train, X_test)\n",
    "    y_pred = svc.predict(kernel_test)\n",
    "    # Calculate Accuracy\n",
    "    accuracy.append(get_accuracy(y_pred, y_test)[1])\n",
    "    print 'Accuracy : ', get_accuracy(y_pred, y_test)[1]\n",
    "\n",
    "# Calculate Average Accuracy\n",
    "print \"Average accuracy for Multi Kernel : \", np.mean(accuracy)"
   ]
  },
  {
   "cell_type": "code",
   "execution_count": 32,
   "metadata": {},
   "outputs": [
    {
     "name": "stdout",
     "output_type": "stream",
     "text": [
      "Accuracy :  0.865224625624\n",
      "Accuracy :  0.838602329451\n",
      "Accuracy :  0.835\n",
      "Accuracy :  0.854757929883\n",
      "Accuracy :  0.83305509182\n",
      "Average accuracy for Multi Kernel :  0.845327995356\n"
     ]
    }
   ],
   "source": [
    "accuracy = []\n",
    "\n",
    "# For each cross validation train and test set run mkl kernel SVM\n",
    "for train_index, test_index in skf.split(X, y):\n",
    "    # Dataset\n",
    "    X_train, X_test = X[train_index], X[test_index]\n",
    "    y_train, y_test = y[train_index], y[test_index]\n",
    "    # Train\n",
    "    kernel_train = mkl.get_gram_matrix(X_train, X_train, alphas=[0.25, 0.4, 0.35])  # linear kernel\n",
    "    svc.fit(kernel_train, y_train)\n",
    "    # Test\n",
    "    kernel_test = mkl.get_gram_matrix(X_train, X_test, alphas=[0.25, 0.4, 0.35])\n",
    "    y_pred = svc.predict(kernel_test)\n",
    "    # Calculate Accuracy\n",
    "    accuracy.append(get_accuracy(y_pred, y_test)[1])\n",
    "    print 'Accuracy : ', get_accuracy(y_pred, y_test)[1]\n",
    "\n",
    "# Calculate Average Accuracy\n",
    "print \"Average accuracy for Multi Kernel : \", np.mean(accuracy)"
   ]
  },
  {
   "cell_type": "code",
   "execution_count": 33,
   "metadata": {},
   "outputs": [
    {
     "name": "stdout",
     "output_type": "stream",
     "text": [
      "Accuracy :  0.861896838602\n",
      "Accuracy :  0.838602329451\n",
      "Accuracy :  0.851666666667\n",
      "Accuracy :  0.843071786311\n",
      "Accuracy :  0.823038397329\n",
      "Average accuracy for Multi Kernel :  0.843655203672\n"
     ]
    }
   ],
   "source": [
    "accuracy = []\n",
    "\n",
    "# For each cross validation train and test set run mkl kernel SVM\n",
    "for train_index, test_index in skf.split(X, y):\n",
    "    # Dataset\n",
    "    X_train, X_test = X[train_index], X[test_index]\n",
    "    y_train, y_test = y[train_index], y[test_index]\n",
    "    # Train\n",
    "    kernel_train = mkl.get_gram_matrix(X_train, X_train, alphas=[0.25, 0.4, 0.35])  # linear kernel\n",
    "    svc.fit(kernel_train, y_train)\n",
    "    # Test\n",
    "    kernel_test = mkl.get_gram_matrix(X_train, X_test, alphas=[0.25, 0.35, 0.4])\n",
    "    y_pred = svc.predict(kernel_test)\n",
    "    # Calculate Accuracy\n",
    "    accuracy.append(get_accuracy(y_pred, y_test)[1])\n",
    "    print 'Accuracy : ', get_accuracy(y_pred, y_test)[1]\n",
    "\n",
    "# Calculate Average Accuracy\n",
    "print \"Average accuracy for Multi Kernel : \", np.mean(accuracy)"
   ]
  },
  {
   "cell_type": "markdown",
   "metadata": {},
   "source": [
    "## Report\n",
    "\n",
    "* Due to time constraints I ran only for 3000 datapoints\n",
    "\n",
    "### Accuracy details (4a)\n",
    "* Linear kernel : 0.821316823102\n",
    "* Polynomial kernel :\n",
    "    * q = 2 : 0.843326322203\n",
    "    * q = 3 : 0.778993957391\n",
    "    * q = 4 : 0.756976678639\n",
    "    * Best q value is 2\n",
    "* Gaussian Kernel :\n",
    "    * s = 0.5 : 0.837989086081\n",
    "    * s = 0.25 : 0.832327405539\n",
    "    * s = 0.75 : 0.827322393488\n",
    "    * s = 0.6 : 0.834650742548\n",
    "    * Best s value is 0.5\n",
    "    \n",
    "### For multi kernel (4b)\n",
    "* Multikernelfixedrules : [Linear, Polynomial(q = 2), Gaussian(s = 0.5)]\n",
    "    * alphas = [0.33, 0.33, 0.34] : 0.845994663874\n",
    "    * alphas = [0.25, 0.4, 0.35] : 0.845327995356\n",
    "    * alphas = [0.25, 0.35, 0.4] : 0.843655203672\n",
    "    * Best alphas combination : [0.33, 0.33, 0.34]"
   ]
  },
  {
   "cell_type": "code",
   "execution_count": null,
   "metadata": {
    "collapsed": true
   },
   "outputs": [],
   "source": []
  }
 ],
 "metadata": {
  "kernelspec": {
   "display_name": "Python 2",
   "language": "python",
   "name": "python2"
  },
  "language_info": {
   "codemirror_mode": {
    "name": "ipython",
    "version": 2
   },
   "file_extension": ".py",
   "mimetype": "text/x-python",
   "name": "python",
   "nbconvert_exporter": "python",
   "pygments_lexer": "ipython2",
   "version": "2.7.13"
  }
 },
 "nbformat": 4,
 "nbformat_minor": 2
}
