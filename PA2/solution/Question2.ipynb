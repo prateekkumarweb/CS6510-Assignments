{
 "cells": [
  {
   "cell_type": "markdown",
   "metadata": {},
   "source": [
    "# Question 2\n",
    "**Ridge Regression and LASSO**"
   ]
  },
  {
   "cell_type": "code",
   "execution_count": 1,
   "metadata": {
    "collapsed": true
   },
   "outputs": [],
   "source": [
    "import numpy as np\n",
    "\n",
    "np.random.seed(23)\n",
    "# Generate the dataset randomly based on the question\n",
    "X = np.random.rand(150, 75)\n",
    "theta = np.zeros(75)\n",
    "for i in xrange(10):\n",
    "    r = np.random.randint(0, 2)\n",
    "    if r == 0:\n",
    "        theta[i] = -10\n",
    "    else:\n",
    "        theta[i] = 10\n",
    "epsilon = 0.1 * np.random.randn(150)\n",
    "# Generate target labels as y = X*theta + epsilon\n",
    "y = X.dot(theta) + epsilon\n",
    "\n",
    "# Split the dataset into train, validation and test sets\n",
    "train_X = X[:80]\n",
    "train_y = y[:80]\n",
    "valid_X = X[80:100]\n",
    "valid_y = y[80:100]\n",
    "test_X = X[100:150]\n",
    "test_y = y[100:150]"
   ]
  },
  {
   "cell_type": "code",
   "execution_count": 2,
   "metadata": {
    "collapsed": true
   },
   "outputs": [],
   "source": [
    "# Calculates mean square error given true values and predicted values as MSE = ||y - y'||^2/no_samples\n",
    "def mse(true_y, pred_y):\n",
    "    return np.linalg.norm(true_y - pred_y)**2/len(true_y)\n",
    "\n",
    "# Train a given classifier on train set and check MSE on validation set\n",
    "def train_clf(clf):\n",
    "    clf.fit(train_X, train_y)\n",
    "    predict_y = clf.predict(valid_X)\n",
    "    print \"Lambda :\",clf.alpha,\"\\tValidation set MSE :\",mse(valid_y, predict_y)\n",
    "\n",
    "# Predict on test set after training on whole train and validation sets and\n",
    "# report MSE, number of weights modified as required by question\n",
    "def test_clf(clf):\n",
    "    clf.fit(np.concatenate((train_X,valid_X)), np.concatenate((train_y,valid_y)))\n",
    "    predict_y = clf.predict(test_X)\n",
    "    print \"Lambda :\",clf.alpha,\"\\tTest set MSE :\",mse(test_y, predict_y)\n",
    "\n",
    "    # Calculate the number of weights that changed from zero to non-zero and vice versa based\n",
    "    # on both using absoluate value and thresold value as asked by the question\n",
    "    th = 0.01 # Thresold\n",
    "    # Differnet counters\n",
    "    count_0_to_non0 = 0\n",
    "    count_non0_to_0 = 0\n",
    "    count_th_0_to_non0 = 0\n",
    "    count_th_non0_to_0 = 0\n",
    "\n",
    "    # Calculate the counters and print them\n",
    "    for i in xrange(75):\n",
    "        if i < 10:\n",
    "            if clf.coef_[i] == 0:\n",
    "                count_non0_to_0 += 1\n",
    "            if clf.coef_[i] < th and clf.coef_[i] > -th:\n",
    "                count_th_non0_to_0 += 1\n",
    "        else:\n",
    "            if clf.coef_[i] != 0:\n",
    "                count_0_to_non0 += 1\n",
    "            if not(clf.coef_[i] < th and clf.coef_[i] > -th):\n",
    "                count_th_0_to_non0 += 1\n",
    "\n",
    "    #print \"Learned weights :\",clf.coef_           \n",
    "    print \"Weight components that became zero from non zero :\",count_non0_to_0\n",
    "    print \"Weight components that became non zero from zero :\",count_0_to_non0\n",
    "    print \"Weight components that became zero (below thresold) from non zero :\",count_th_non0_to_0\n",
    "    print \"Weight components that became non zero (above thresold) from zero :\",count_th_0_to_non0"
   ]
  },
  {
   "cell_type": "markdown",
   "metadata": {},
   "source": [
    "# My implementation of Ridge"
   ]
  },
  {
   "cell_type": "code",
   "execution_count": 3,
   "metadata": {
    "collapsed": true
   },
   "outputs": [],
   "source": [
    "from scipy.optimize import minimize\n",
    "\n",
    "# My implemenation for Ridge Regressor\n",
    "class MyRidge:\n",
    "    # Set lambda parameter\n",
    "    def __init__(self, alpha=0.1):\n",
    "        self.alpha = alpha\n",
    "    \n",
    "    # Optimization function L = lambda * ||W||^2 + ||y - XW||^2\n",
    "    def opt_fun(self, w):\n",
    "        return self.alpha*np.linalg.norm(w)**2 + np.linalg.norm(self.y - self.X.dot(w))**2\n",
    "    \n",
    "    # Calcualte the weights minimizing opt func using given train set\n",
    "    def fit(self, X, y):\n",
    "        self.X = X\n",
    "        self.y = y\n",
    "        self.coef_ = minimize(self.opt_fun, np.ones(len(X[0]))).x\n",
    "    \n",
    "    # Predict the values on test set using weights learnt from fit\n",
    "    def predict(self, X):\n",
    "        return X.dot(self.coef_)"
   ]
  },
  {
   "cell_type": "code",
   "execution_count": 4,
   "metadata": {
    "collapsed": false
   },
   "outputs": [
    {
     "name": "stdout",
     "output_type": "stream",
     "text": [
      "Lambda : 1 \tValidation set MSE : 9.18207618636\n",
      "Lambda : 0.1 \tValidation set MSE : 1.29762852376\n",
      "Lambda : 0.01 \tValidation set MSE : 0.0714807303795\n",
      "Lambda : 0.008 \tValidation set MSE : 0.0552144120455\n",
      "Lambda : 0.005 \tValidation set MSE : 0.0436139706537\n",
      "Lambda : 0.002 \tValidation set MSE : 0.0607530968025\n",
      "Lambda : 0.001 \tValidation set MSE : 0.0777612683257\n"
     ]
    }
   ],
   "source": [
    "# Run MyRidge for different lambdas and calculate lambda which gives min MSE\n",
    "train_clf(MyRidge(alpha=1))\n",
    "train_clf(MyRidge(alpha=0.1))\n",
    "train_clf(MyRidge(alpha=0.01))\n",
    "train_clf(MyRidge(alpha=0.008))\n",
    "train_clf(MyRidge(alpha=0.005))\n",
    "train_clf(MyRidge(alpha=0.002))\n",
    "train_clf(MyRidge(alpha=0.001))"
   ]
  },
  {
   "cell_type": "code",
   "execution_count": 5,
   "metadata": {
    "collapsed": false
   },
   "outputs": [
    {
     "name": "stdout",
     "output_type": "stream",
     "text": [
      "Lambda : 0.005 \tTest set MSE : 0.0619188660745\n",
      "Weight components that became zero from non zero : 0\n",
      "Weight components that became non zero from zero : 65\n",
      "Weight components that became zero (below thresold) from non zero : 0\n",
      "Weight components that became non zero (above thresold) from zero : 59\n"
     ]
    }
   ],
   "source": [
    "# Train on train + validation set, report MSE on test set and the number of changed weights\n",
    "test_clf(MyRidge(alpha=0.005))"
   ]
  },
  {
   "cell_type": "markdown",
   "metadata": {},
   "source": [
    "# Ridge from sklearn"
   ]
  },
  {
   "cell_type": "code",
   "execution_count": 6,
   "metadata": {
    "collapsed": false
   },
   "outputs": [
    {
     "name": "stdout",
     "output_type": "stream",
     "text": [
      "Lambda : 0.005 \tValidation set MSE : 0.147104467893\n"
     ]
    }
   ],
   "source": [
    "from sklearn.linear_model import Ridge\n",
    "# Run sklearn Ridge for lambda obtained from above my Ridge implementation (for verification)\n",
    "train_clf(Ridge(alpha=0.005))"
   ]
  },
  {
   "cell_type": "code",
   "execution_count": 7,
   "metadata": {
    "collapsed": false
   },
   "outputs": [
    {
     "name": "stdout",
     "output_type": "stream",
     "text": [
      "Lambda : 0.005 \tTest set MSE : 0.0620698315891\n",
      "Weight components that became zero from non zero : 0\n",
      "Weight components that became non zero from zero : 65\n",
      "Weight components that became zero (below thresold) from non zero : 0\n",
      "Weight components that became non zero (above thresold) from zero : 58\n"
     ]
    }
   ],
   "source": [
    "# Train on train + validation set, report MSE on test set and the number of changed weights\n",
    "test_clf(Ridge(alpha=0.005))"
   ]
  },
  {
   "cell_type": "markdown",
   "metadata": {},
   "source": [
    "# Lasso from sklearn"
   ]
  },
  {
   "cell_type": "code",
   "execution_count": 8,
   "metadata": {
    "collapsed": false
   },
   "outputs": [
    {
     "name": "stdout",
     "output_type": "stream",
     "text": [
      "Lambda : 1 \tValidation set MSE : 94.9262697012\n",
      "Lambda : 0.1 \tValidation set MSE : 1.2068891066\n",
      "Lambda : 0.05 \tValidation set MSE : 0.298884619009\n",
      "Lambda : 0.02 \tValidation set MSE : 0.0520786059261\n",
      "Lambda : 0.01 \tValidation set MSE : 0.0198349808111\n",
      "Lambda : 0.005 \tValidation set MSE : 0.0120266106574\n",
      "Lambda : 0.002 \tValidation set MSE : 0.0106285352288\n",
      "Lambda : 0.001 \tValidation set MSE : 0.0139540096442\n"
     ]
    }
   ],
   "source": [
    "from sklearn.linear_model import Lasso\n",
    "\n",
    "# Run Lasso for different lambdas and calculate lambda which gives min MSE\n",
    "train_clf(Lasso(alpha=1))\n",
    "train_clf(Lasso(alpha=0.1))\n",
    "train_clf(Lasso(alpha=0.05))\n",
    "train_clf(Lasso(alpha=0.02))\n",
    "train_clf(Lasso(alpha=0.01))\n",
    "train_clf(Lasso(alpha=0.005))\n",
    "train_clf(Lasso(alpha=0.002))\n",
    "train_clf(Lasso(alpha=0.001))"
   ]
  },
  {
   "cell_type": "code",
   "execution_count": 9,
   "metadata": {
    "collapsed": false
   },
   "outputs": [
    {
     "name": "stdout",
     "output_type": "stream",
     "text": [
      "Lambda : 0.002 \tTest set MSE : 0.015108694972\n",
      "Weight components that became zero from non zero : 0\n",
      "Weight components that became non zero from zero : 24\n",
      "Weight components that became zero (below thresold) from non zero : 0\n",
      "Weight components that became non zero (above thresold) from zero : 19\n"
     ]
    }
   ],
   "source": [
    "# Train on train + validation set, report MSE on test set and the number of changed weights\n",
    "test_clf(Lasso(alpha=0.002))"
   ]
  },
  {
   "cell_type": "markdown",
   "metadata": {},
   "source": [
    "# Report\n",
    "\n",
    "| Weights components | My Ridge | Sklearn Ridge | Sklearn LASSO |\n",
    "|---|---|---|---|\n",
    "| zero from non zero | 0 | 0 | 0 |\n",
    "| non zero from zero | 65 | 65 | 24 |\n",
    "| zero(below thresold) from non zero | 0 | 0 | 0 |\n",
    "| non zero(above thresold) from zero | 59 | 58 | 19 |\n",
    "\n",
    "\n",
    "1. The LASSO from sklearn gave least MSE when comapred to that of both my Ridge and sklearn Ridge Regressor.\n",
    "1. The MSE obtained on test set using my Ridge and sklearn Ridge was close with sklearn giving less MSE.\n",
    "1. The deviation in number of zero and non-zero weights was more for Ridge and that of LASSO.\n",
    "1. Some of the weights learned by LASSO were exact zero(without thresold) where as there was none for Ridge Regressor."
   ]
  }
 ],
 "metadata": {
  "kernelspec": {
   "display_name": "Python 2",
   "language": "python",
   "name": "python2"
  },
  "language_info": {
   "codemirror_mode": {
    "name": "ipython",
    "version": 2
   },
   "file_extension": ".py",
   "mimetype": "text/x-python",
   "name": "python",
   "nbconvert_exporter": "python",
   "pygments_lexer": "ipython2",
   "version": "2.7.13"
  }
 },
 "nbformat": 4,
 "nbformat_minor": 2
}
